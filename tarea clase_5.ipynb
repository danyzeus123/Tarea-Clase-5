{
 "cells": [
  {
   "cell_type": "markdown",
   "metadata": {},
   "source": [
    "# Calculadora Simple\n",
    "Crea un programa que solicite al usuario dos números y una operación (suma, resta, multiplicación o división). Luego, utilizando estructuras condicionales (if, elif, else), realiza la operación seleccionada e imprime el resultado.\n"
   ]
  },
  {
   "cell_type": "code",
   "execution_count": 7,
   "metadata": {},
   "outputs": [
    {
     "name": "stdout",
     "output_type": "stream",
     "text": [
      "Resultado: 3.0\n"
     ]
    }
   ],
   "source": [
    "def calcular():\n",
    "    numero1 = float(input(\"Ingrese el primer número: \"))\n",
    "    numero2 = float(input(\"Ingrese el segundo número: \"))\n",
    "    operacion = input(\"Ingrese la operación (+, -, *, /): \")\n",
    "\n",
    "    if operacion == \"+\":\n",
    "        resultado = numero1 + numero2\n",
    "    elif operacion == \"-\":\n",
    "        resultado = numero1 - numero2\n",
    "    elif operacion == \"*\":\n",
    "        resultado = numero1 * numero2\n",
    "    elif operacion == \"/\":\n",
    "        if numero2 != 0:\n",
    "            resultado = numero1 / numero2\n",
    "        else:\n",
    "            resultado = \"no se puede dividir por cero\"\n",
    "    else:\n",
    "        resultado = \"La Operación no es correcta\"\n",
    "\n",
    "    print(\"Resultado:\", resultado)\n",
    "\n",
    "calcular()\n"
   ]
  },
  {
   "cell_type": "markdown",
   "metadata": {},
   "source": [
    "# Contador de Números Pares e Impares\n",
    "Escribe un programa que recorra una lista de números del 1 al 20. Utilizando un bucle for, determina cuántos de estos números son pares y cuántos son impares. Al final, imprime la cantidad de números pares e impares.\n"
   ]
  },
  {
   "cell_type": "code",
   "execution_count": 14,
   "metadata": {},
   "outputs": [
    {
     "name": "stdout",
     "output_type": "stream",
     "text": [
      "Cantidad de números pares: 10\n",
      "Cantidad de números impares: 10\n"
     ]
    }
   ],
   "source": [
    "def contar_pares_impares():\n",
    "    Pares = 0\n",
    "    Impares = 0\n",
    "    for i in range(1, 21):\n",
    "        if i % 2 == 0:\n",
    "            Pares += 1\n",
    "        else:\n",
    "            Impares += 1\n",
    "    print(\"Cantidad de números pares:\", Pares)\n",
    "    print(\"Cantidad de números impares:\", Impares)\n",
    "\n",
    "contar_pares_impares()\n"
   ]
  },
  {
   "cell_type": "markdown",
   "metadata": {},
   "source": [
    "# Validación de Contraseña\n",
    "Pide al usuario que ingrese una contraseña. Utiliza un bucle while para seguir solicitando la contraseña hasta que coincida con una contraseña predefinida (por ejemplo, \"python123\"). Muestra un mensaje de éxito cuando la contraseña es correcta.\n"
   ]
  },
  {
   "cell_type": "code",
   "execution_count": 16,
   "metadata": {},
   "outputs": [
    {
     "name": "stdout",
     "output_type": "stream",
     "text": [
      "Contraseña correcta. Exito!!\n"
     ]
    }
   ],
   "source": [
    "def validar_contrasenia():\n",
    "    contrasenia_correcta = \"python123\"\n",
    "    contrasenia = input(\"Ingrese la contraseña: \")\n",
    "    while contrasenia != contrasenia_correcta:\n",
    "        contrasenia = input(\"Contraseña incorrecta. Inténtelo de nuevo: \")\n",
    "    print(\"Contraseña correcta. Exito!!\")\n",
    "\n",
    "validar_contrasenia()\n"
   ]
  },
  {
   "cell_type": "markdown",
   "metadata": {},
   "source": [
    "# Identificador de Números Primos\n",
    "Crea un programa que solicite al usuario un número entero. Utilizando un bucle for, verifica si el número es primo (es decir, solo divisible por 1 y por sí mismo). Imprime un mensaje indicando si el número es primo o no.\n"
   ]
  },
  {
   "cell_type": "code",
   "execution_count": 20,
   "metadata": {},
   "outputs": [
    {
     "name": "stdout",
     "output_type": "stream",
     "text": [
      "4 no es un número primo.\n"
     ]
    }
   ],
   "source": [
    "def es_primo(numero):\n",
    "    if numero <= 1:\n",
    "        return False\n",
    "    for i in range(2, numero):\n",
    "        if numero % i == 0:\n",
    "            return False\n",
    "    return True\n",
    "\n",
    "def identificar_primo():\n",
    "    numero = int(input(\"Ingrese un número entero: \"))\n",
    "    if es_primo(numero):\n",
    "        print(numero, \"es un número primo.\")\n",
    "    else:\n",
    "        print(numero, \"no es un número primo.\")\n",
    "\n",
    "identificar_primo()\n"
   ]
  },
  {
   "cell_type": "markdown",
   "metadata": {},
   "source": [
    "# Juego de Adivinanza\n",
    "Genera un número aleatorio entre 1 y 50. Pide al usuario que adivine el número. Utiliza un bucle while para permitir múltiples intentos. Da pistas al usuario si el número ingresado es demasiado alto o bajo. Finaliza el juego cuando el usuario adivine correctamente.\n",
    "\n"
   ]
  },
  {
   "cell_type": "code",
   "execution_count": 23,
   "metadata": {},
   "outputs": [
    {
     "name": "stdout",
     "output_type": "stream",
     "text": [
      "El número es más bajo. Intenta de nuevo.\n",
      "El número es más bajo. Intenta de nuevo.\n",
      "El número es más alto. Intenta de nuevo.\n",
      "El número es más alto. Intenta de nuevo.\n",
      "El número es más alto. Intenta de nuevo.\n",
      "El número es más bajo. Intenta de nuevo.\n",
      "El número es más bajo. Intenta de nuevo.\n",
      "El número es más bajo. Intenta de nuevo.\n",
      "¡Felicidades! Adivinaste el número en 9 intentos.\n"
     ]
    }
   ],
   "source": [
    "import random\n",
    "\n",
    "def juego_adivinanza():\n",
    "    numero_secreto = random.randint(1, 50)\n",
    "    intentos = 0\n",
    "    while True:\n",
    "        intento = int(input(\"Adivina el número (entre 1 y 50): \"))\n",
    "        intentos += 1\n",
    "        if intento < numero_secreto:\n",
    "            print(\"El número es más alto. Intenta de nuevo.\")\n",
    "        elif intento > numero_secreto:\n",
    "            print(\"El número es más bajo. Intenta de nuevo.\")\n",
    "        else:\n",
    "            print(\"¡Felicidades! Adivinaste el número en\", intentos, \"intentos.\")\n",
    "            break\n",
    "\n",
    "juego_adivinanza()\n"
   ]
  },
  {
   "cell_type": "markdown",
   "metadata": {},
   "source": [
    "# Tabla de Multiplicar\n",
    "Pide al usuario que ingrese un número entero. Utiliza un bucle for para imprimir la tabla de multiplicar de ese número del 1 al 10. Por ejemplo, si el usuario ingresa 7, el programa debe imprimir:\n"
   ]
  },
  {
   "cell_type": "code",
   "execution_count": 25,
   "metadata": {},
   "outputs": [
    {
     "name": "stdout",
     "output_type": "stream",
     "text": [
      "Tabla de multiplicar de 3 :\n",
      "3 x 1 = 3\n",
      "3 x 2 = 6\n",
      "3 x 3 = 9\n",
      "3 x 4 = 12\n",
      "3 x 5 = 15\n",
      "3 x 6 = 18\n",
      "3 x 7 = 21\n",
      "3 x 8 = 24\n",
      "3 x 9 = 27\n",
      "3 x 10 = 30\n"
     ]
    }
   ],
   "source": [
    "def tabla_multiplicar():\n",
    "    numero = int(input(\"Ingrese un número entero: \"))\n",
    "    print(\"Tabla de multiplicar de\", numero, \":\")\n",
    "    for i in range(1, 11):\n",
    "        print(numero, \"x\", i, \"=\", numero * i)\n",
    "\n",
    "tabla_multiplicar()\n"
   ]
  }
 ],
 "metadata": {
  "kernelspec": {
   "display_name": "Python 3",
   "language": "python",
   "name": "python3"
  },
  "language_info": {
   "codemirror_mode": {
    "name": "ipython",
    "version": 3
   },
   "file_extension": ".py",
   "mimetype": "text/x-python",
   "name": "python",
   "nbconvert_exporter": "python",
   "pygments_lexer": "ipython3",
   "version": "3.12.0"
  }
 },
 "nbformat": 4,
 "nbformat_minor": 2
}
